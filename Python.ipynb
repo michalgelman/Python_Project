{
  "nbformat": 4,
  "nbformat_minor": 0,
  "metadata": {
    "colab": {
      "name": "Python.ipynb",
      "provenance": [],
      "collapsed_sections": [],
      "include_colab_link": true
    },
    "kernelspec": {
      "name": "python3",
      "display_name": "Python 3"
    }
  },
  "cells": [
    {
      "cell_type": "markdown",
      "metadata": {
        "id": "view-in-github",
        "colab_type": "text"
      },
      "source": [
        "<a href=\"https://colab.research.google.com/github/michalgelman/Python_Project/blob/master/Python.ipynb\" target=\"_parent\"><img src=\"https://colab.research.google.com/assets/colab-badge.svg\" alt=\"Open In Colab\"/></a>"
      ]
    },
    {
      "cell_type": "markdown",
      "metadata": {
        "id": "FGH0GoOjEQRT",
        "colab_type": "text"
      },
      "source": [
        ""
      ]
    },
    {
      "cell_type": "markdown",
      "metadata": {
        "id": "WaVjtWI2h2nJ",
        "colab_type": "text"
      },
      "source": [
        "In this task, there are 10 Python exercises. Try to answer as many as possible. Completing all exercises is preferred but not mandatory.\n",
        "\n",
        "**Guidelines:**\n",
        "*   The code should cover the input example as well as address more generalized inputs\n",
        "*   If you have an assumption regarding the input, please state them in comment expression (`#your comment`) inside the code\n",
        "*   No additional `import` of libraries is allowed to already imported on the code cell\n",
        "*   The code on every exercise must not exceed 15 lines \n",
        "\n",
        "\n",
        "\n",
        "\n",
        "\n",
        "\n",
        "\n",
        "\n",
        "\n"
      ]
    },
    {
      "cell_type": "markdown",
      "metadata": {
        "id": "qZzkMpPhjpwW",
        "colab_type": "text"
      },
      "source": [
        "**Exercise 1**\n",
        "\n",
        "add a string to list\n",
        "\n",
        "example input: `s='str', l=['a', 'b', 'c']`\n",
        "\n",
        "expected output: `['a', 'b', 'c', 'str']`\n"
      ]
    },
    {
      "cell_type": "code",
      "metadata": {
        "id": "C3YMhXSbeW-H",
        "colab_type": "code",
        "colab": {
          "base_uri": "https://localhost:8080/",
          "height": 34
        },
        "outputId": "f46f0c93-7141-4944-bfe0-bab43d92f498"
      },
      "source": [
        "def add_string_to_list(s, l):\n",
        "  # A string and a list concatenation \n",
        "  \n",
        "  return l+[s] \n",
        "\n",
        "print(add_string_to_list('str', ['a', 'b', 'c']))"
      ],
      "execution_count": null,
      "outputs": [
        {
          "output_type": "stream",
          "text": [
            "['a', 'b', 'c', 'str']\n"
          ],
          "name": "stdout"
        }
      ]
    },
    {
      "cell_type": "markdown",
      "metadata": {
        "colab_type": "text",
        "id": "cqsd_5DakgKV"
      },
      "source": [
        "**Exercise 2**\n",
        "\n",
        "multiply two numbers and divide the result by two\n",
        "\n",
        "example input: `n1=3, n2=6`\n",
        "\n",
        "expected output: `9`\n"
      ]
    },
    {
      "cell_type": "code",
      "metadata": {
        "id": "LPxKqMU4lxNh",
        "colab_type": "code",
        "colab": {
          "base_uri": "https://localhost:8080/",
          "height": 34
        },
        "outputId": "ebce589d-e034-4ee5-c26a-230354473f65"
      },
      "source": [
        "def mul_nums_and_divide_by_two(n1, n2):\n",
        "  # Multiply 'n' variables and divide by 2\n",
        "  \n",
        "  return (n1*n2)/2\n",
        "\n",
        "print(mul_nums_and_divide_by_two(n1=3, n2=6))"
      ],
      "execution_count": null,
      "outputs": [
        {
          "output_type": "stream",
          "text": [
            "9.0\n"
          ],
          "name": "stdout"
        }
      ]
    },
    {
      "cell_type": "markdown",
      "metadata": {
        "id": "TOzP6vZimGLz",
        "colab_type": "text"
      },
      "source": [
        "**Exercise 3**\n",
        "\n",
        "print a number at the end of a message\n",
        "\n",
        "example input: `n=42, message=\"the answer to life the universe and everything is\"`\n",
        "\n",
        "expected output: `\"the answer to life the universe and everything is 42\"`"
      ]
    },
    {
      "cell_type": "code",
      "metadata": {
        "id": "BU8wBuck491Z",
        "colab_type": "code",
        "colab": {
          "base_uri": "https://localhost:8080/",
          "height": 34
        },
        "outputId": "c6db0ed4-afa5-4e46-cf95-bfe3f01daca5"
      },
      "source": [
        "def print_num_at_the_end_of_message(n, message):\n",
        "  # A string and a number concatenation\n",
        "    # Turn the number into a string\n",
        "  \n",
        "  return message + \" \" + str(n)\n",
        "\n",
        "print(print_num_at_the_end_of_message(n=42, message=\"the answer to life the universe and everything is\"))"
      ],
      "execution_count": null,
      "outputs": [
        {
          "output_type": "stream",
          "text": [
            "the answer to life the universe and everything is 42\n"
          ],
          "name": "stdout"
        }
      ]
    },
    {
      "cell_type": "markdown",
      "metadata": {
        "id": "Ipfqi1yu6v2P",
        "colab_type": "text"
      },
      "source": [
        "**Exercise 4**\n",
        "\n",
        "find the avarege value of a list of numbers\n",
        "\n",
        "example input: `l=[5, 9, 12, 13, 0, 0.2]`\n",
        "\n",
        "expected output: `6.533333333333334`"
      ]
    },
    {
      "cell_type": "code",
      "metadata": {
        "id": "COqyRX8j73ui",
        "colab_type": "code",
        "colab": {
          "base_uri": "https://localhost:8080/",
          "height": 34
        },
        "outputId": "cb174519-fe92-40ba-e505-1665497dac9a"
      },
      "source": [
        "def average(l):\n",
        "  # Sum numbers and divide it by the list's length\n",
        "  \n",
        "  return sum(l)/len(l)\n",
        "\n",
        "print(average(l=[5, 9, 12, 13, 0, 0.2]))"
      ],
      "execution_count": null,
      "outputs": [
        {
          "output_type": "stream",
          "text": [
            "6.533333333333334\n"
          ],
          "name": "stdout"
        }
      ]
    },
    {
      "cell_type": "markdown",
      "metadata": {
        "id": "7tOI8wG-DGie",
        "colab_type": "text"
      },
      "source": [
        "**Exercise 5**\n",
        "\n",
        "mix alternately two lists\n",
        "\n",
        "example input: `l1=['book', 'banana', 3.14, 'dog', 'robocop'], l2=[1, 2, 3, 4]`\n",
        "\n",
        "expected output: `['book', 1, 'banana', 2, 3.14, 3, 'dog', 4,'robocop']`"
      ]
    },
    {
      "cell_type": "code",
      "metadata": {
        "id": "VTqSu1vgE4CL",
        "colab_type": "code",
        "colab": {
          "base_uri": "https://localhost:8080/",
          "height": 316
        },
        "outputId": "d9741ec0-f0b5-4f51-b8f0-be2c34c41bcb"
      },
      "source": [
        "def alternately_mix_two_lists(l1, l2):\n",
        "  # Create new list and mix alternately the two lists in there\n",
        "  \n",
        "  new_list = [None]*(len(l1)+len(l2))\n",
        "  new_list[::2] = l1\n",
        "  new_list[1::2] = l2\n",
        "  \n",
        "  return new_list\n",
        "\n",
        "print(alternately_mix_two_lists(l1=['book', 'banana', 3.14, 'dog', 'robocop'], l2=[1, 2, 3, 4])) "
      ],
      "execution_count": null,
      "outputs": [
        {
          "output_type": "error",
          "ename": "ValueError",
          "evalue": "ignored",
          "traceback": [
            "\u001b[0;31m---------------------------------------------------------------------------\u001b[0m",
            "\u001b[0;31mValueError\u001b[0m                                Traceback (most recent call last)",
            "\u001b[0;32m<ipython-input-2-1f2fd83b85a5>\u001b[0m in \u001b[0;36m<module>\u001b[0;34m()\u001b[0m\n\u001b[1;32m      8\u001b[0m   \u001b[0;32mreturn\u001b[0m \u001b[0mnew_list\u001b[0m\u001b[0;34m\u001b[0m\u001b[0;34m\u001b[0m\u001b[0m\n\u001b[1;32m      9\u001b[0m \u001b[0;34m\u001b[0m\u001b[0m\n\u001b[0;32m---> 10\u001b[0;31m \u001b[0mprint\u001b[0m\u001b[0;34m(\u001b[0m\u001b[0malternately_mix_two_lists\u001b[0m\u001b[0;34m(\u001b[0m\u001b[0ml1\u001b[0m\u001b[0;34m=\u001b[0m\u001b[0;34m[\u001b[0m\u001b[0;34m'book'\u001b[0m\u001b[0;34m,\u001b[0m \u001b[0;34m'banana'\u001b[0m\u001b[0;34m,\u001b[0m \u001b[0;36m3.14\u001b[0m\u001b[0;34m,\u001b[0m \u001b[0;34m'dog'\u001b[0m\u001b[0;34m,\u001b[0m \u001b[0;34m'robocop'\u001b[0m\u001b[0;34m]\u001b[0m\u001b[0;34m,\u001b[0m \u001b[0ml2\u001b[0m\u001b[0;34m=\u001b[0m\u001b[0;34m[\u001b[0m\u001b[0;34m]\u001b[0m\u001b[0;34m)\u001b[0m\u001b[0;34m)\u001b[0m\u001b[0;34m\u001b[0m\u001b[0;34m\u001b[0m\u001b[0m\n\u001b[0m",
            "\u001b[0;32m<ipython-input-2-1f2fd83b85a5>\u001b[0m in \u001b[0;36malternately_mix_two_lists\u001b[0;34m(l1, l2)\u001b[0m\n\u001b[1;32m      3\u001b[0m \u001b[0;34m\u001b[0m\u001b[0m\n\u001b[1;32m      4\u001b[0m   \u001b[0mnew_list\u001b[0m \u001b[0;34m=\u001b[0m \u001b[0;34m[\u001b[0m\u001b[0;32mNone\u001b[0m\u001b[0;34m]\u001b[0m\u001b[0;34m*\u001b[0m\u001b[0;34m(\u001b[0m\u001b[0mlen\u001b[0m\u001b[0;34m(\u001b[0m\u001b[0ml1\u001b[0m\u001b[0;34m)\u001b[0m\u001b[0;34m+\u001b[0m\u001b[0mlen\u001b[0m\u001b[0;34m(\u001b[0m\u001b[0ml2\u001b[0m\u001b[0;34m)\u001b[0m\u001b[0;34m)\u001b[0m\u001b[0;34m\u001b[0m\u001b[0;34m\u001b[0m\u001b[0m\n\u001b[0;32m----> 5\u001b[0;31m   \u001b[0mnew_list\u001b[0m\u001b[0;34m[\u001b[0m\u001b[0;34m:\u001b[0m\u001b[0;34m:\u001b[0m\u001b[0;36m2\u001b[0m\u001b[0;34m]\u001b[0m \u001b[0;34m=\u001b[0m \u001b[0ml1\u001b[0m\u001b[0;34m\u001b[0m\u001b[0;34m\u001b[0m\u001b[0m\n\u001b[0m\u001b[1;32m      6\u001b[0m   \u001b[0mnew_list\u001b[0m\u001b[0;34m[\u001b[0m\u001b[0;36m1\u001b[0m\u001b[0;34m:\u001b[0m\u001b[0;34m:\u001b[0m\u001b[0;36m2\u001b[0m\u001b[0;34m]\u001b[0m \u001b[0;34m=\u001b[0m \u001b[0ml2\u001b[0m\u001b[0;34m\u001b[0m\u001b[0;34m\u001b[0m\u001b[0m\n\u001b[1;32m      7\u001b[0m \u001b[0;34m\u001b[0m\u001b[0m\n",
            "\u001b[0;31mValueError\u001b[0m: attempt to assign sequence of size 5 to extended slice of size 3"
          ]
        }
      ]
    },
    {
      "cell_type": "markdown",
      "metadata": {
        "colab_type": "text",
        "id": "OSBc3guPFcQj"
      },
      "source": [
        "**Exercise 6**\n",
        "\n",
        "randomly shuffle a list\n",
        "\n",
        "Randomly shuffle items of a given list, so the probability of any item, to end up in each location of the output list is similar.\n",
        "\n",
        "example input: `l=[5, 9, 12, 13, 0, 0.2, 'book']`\n",
        "\n",
        "valid expected output: `[12, 0, 5, 13, book, 0.2, 9]`"
      ]
    },
    {
      "cell_type": "code",
      "metadata": {
        "id": "0UmidDN-FEvt",
        "colab_type": "code",
        "colab": {
          "base_uri": "https://localhost:8080/",
          "height": 34
        },
        "outputId": "6bf56c65-7331-4c5a-c461-a55408725b73"
      },
      "source": [
        "from random import randint\n",
        "\n",
        "def random_shuffle(l):\n",
        "  # Randomly shuffle a list using \"randint\"\n",
        "\n",
        "  size=len(l)\n",
        "  \n",
        "  for i in range(0,size):\n",
        "    j=randint(i,size-1)\n",
        "    temp=l[i]\n",
        "    l[i]=l[j]\n",
        "    l[j]=temp\n",
        "  \n",
        "  return l\n",
        "\n",
        "print(random_shuffle(l=[5, 9, 12, 13, 0, 0.2, 'book']))"
      ],
      "execution_count": null,
      "outputs": [
        {
          "output_type": "stream",
          "text": [
            "[13, 'book', 0, 9, 12, 0.2, 5]\n"
          ],
          "name": "stdout"
        }
      ]
    },
    {
      "cell_type": "markdown",
      "metadata": {
        "id": "4IekczA0eFDL",
        "colab_type": "text"
      },
      "source": [
        ""
      ]
    },
    {
      "cell_type": "markdown",
      "metadata": {
        "colab_type": "text",
        "id": "0LAq0MO0MmQ6"
      },
      "source": [
        "**Exercise 7**\n",
        "\n",
        "lexical sort a list of words, starting from the second letter\n",
        "\n",
        "for example, if we have a list of two words: ['a**r**gumentnt', 'b**a**nana'] the sorted result will be ['banana', 'argument'] since the second letter in the word 'banana' is 'a' precedes 'r' which is the second letter of 'argument'\n",
        "\n",
        "example input: `l=['banana', 'argument', 'cat', 'pineapple']`\n",
        "\n",
        "expected output: `['banana', 'cat', 'pineapple', 'argument']`"
      ]
    },
    {
      "cell_type": "code",
      "metadata": {
        "id": "hgUF4vAFJPNz",
        "colab_type": "code",
        "colab": {
          "base_uri": "https://localhost:8080/",
          "height": 34
        },
        "outputId": "ac73df3e-90f5-464b-83de-6b4505f8da29"
      },
      "source": [
        "def lexical_sort_starting_second_letter(l):\n",
        "  # Sort the list by second letter using key sorting\n",
        "  \n",
        "  l.sort(key=lambda x: str(x)[1])\n",
        "  \n",
        "  return l\n",
        "\n",
        "print(lexical_sort_starting_second_letter(['banana', 'argument', 'cat', 'pineapple']))"
      ],
      "execution_count": null,
      "outputs": [
        {
          "output_type": "stream",
          "text": [
            "['banana', 'cat', 'pineapple', 'argument']\n"
          ],
          "name": "stdout"
        }
      ]
    },
    {
      "cell_type": "markdown",
      "metadata": {
        "colab_type": "text",
        "id": "_NecvztmU1k2"
      },
      "source": [
        "**Exercise 8**\n",
        "\n",
        "sort paragraph's words by frequency \n",
        "\n",
        "example input: `p='''Reports that say that something hasn't happened are always interesting to me, because as we know, there are known knowns; there are things we know we know. We also know there are known unknowns; that is to say we know there are some things we do not know. But there are also unknown unknowns — the ones we don't know we don't know. And if one looks throughout the history of our country and other free countries, it is the latter category that tend to be the difficult ones.'''`\n",
        "\n",
        "expected output: `{'know': 8, 'we': 7, 'are': 6, 'there': 5, 'that': 4, 'the': 4, 'to': 3, 'say': 2, 'known': 2, 'things': 2, 'also': 2, 'unknowns': 2, 'is': 2, 'ones': 2, 'dont': 2, 'Reports': 1, 'something': 1, 'hasnt': 1, 'happened': 1, 'always': 1, 'interesting': 1, 'me': 1, 'because': 1, 'as': 1, 'knowns': 1, 'We': 1, 'some': 1, 'do': 1, 'not': 1, 'But': 1, 'unknown': 1, '': 1, 'And': 1, 'if': 1, 'one': 1, 'looks': 1, 'throughout': 1, 'history': 1, 'of': 1, 'our': 1, 'country': 1, 'and': 1, 'other': 1, 'free': 1, 'countries': 1, 'it': 1, 'latter': 1, 'category': 1, 'tend': 1, 'be': 1, 'difficult': 1}`"
      ]
    },
    {
      "cell_type": "code",
      "metadata": {
        "id": "xNg-trvkX0Hy",
        "colab_type": "code",
        "colab": {
          "base_uri": "https://localhost:8080/",
          "height": 54
        },
        "outputId": "3ca14a82-0897-4fb3-8238-1abb52496ce0"
      },
      "source": [
        "import re\n",
        "\n",
        "def words_freq_in_paragraph(p):\n",
        "  # Seperate words in a string and sort by their frequencies.\n",
        "\n",
        "  frequency = {}\n",
        "  allwords = re.findall(r'\\b[a-z]{2,10}\\b',p)\n",
        "\n",
        "  for word in allwords:\n",
        "      count = frequency.get(word,0)\n",
        "      frequency[word] = count + 1\n",
        "  \n",
        "  new_list = sorted(frequency.items(), key=lambda item: -item[1])\n",
        "  \n",
        "  return new_list\n",
        "\n",
        "print(words_freq_in_paragraph(p='''Reports that say that something hasn't happened are always interesting to me, because as we know, there are known knowns; there are things we know we know. We also know there are known unknowns; that is to say we know there are some things we do not know. But there are also unknown unknowns — the ones we don't know we don't know. And if one looks throughout the history of our country and other free countries, it is the latter category that tend to be the difficult ones.'''))"
      ],
      "execution_count": null,
      "outputs": [
        {
          "output_type": "stream",
          "text": [
            "[('know', 8), ('we', 7), ('are', 6), ('there', 5), ('that', 4), ('the', 4), ('to', 3), ('say', 2), ('known', 2), ('things', 2), ('also', 2), ('unknowns', 2), ('is', 2), ('ones', 2), ('don', 2), ('something', 1), ('hasn', 1), ('happened', 1), ('always', 1), ('me', 1), ('because', 1), ('as', 1), ('knowns', 1), ('some', 1), ('do', 1), ('not', 1), ('unknown', 1), ('if', 1), ('one', 1), ('looks', 1), ('throughout', 1), ('history', 1), ('of', 1), ('our', 1), ('country', 1), ('and', 1), ('other', 1), ('free', 1), ('countries', 1), ('it', 1), ('latter', 1), ('category', 1), ('tend', 1), ('be', 1), ('difficult', 1)]\n"
          ],
          "name": "stdout"
        }
      ]
    },
    {
      "cell_type": "markdown",
      "metadata": {
        "id": "mSFYtUiP9E7e",
        "colab_type": "text"
      },
      "source": [
        "# New Section"
      ]
    },
    {
      "cell_type": "markdown",
      "metadata": {
        "id": "2d6AFPsjcXnc",
        "colab_type": "text"
      },
      "source": [
        "**Exercise 9**\n",
        "\n",
        "retrieve the title of a web page\n",
        "\n",
        "example input: `url='http://www.chess.com'`\n",
        "\n",
        "expected output: `'Chess.com - Play Chess Online - Free Games'`"
      ]
    },
    {
      "cell_type": "code",
      "metadata": {
        "id": "gxihbJu0cnv6",
        "colab_type": "code",
        "colab": {
          "base_uri": "https://localhost:8080/",
          "height": 34
        },
        "outputId": "3d53a522-8ef0-471e-997d-ddde2f52c051"
      },
      "source": [
        "import requests\n",
        "from bs4 import BeautifulSoup\n",
        "\n",
        "def get_site_title(url):\n",
        "  # Retrieve the title of a website from it's URL \n",
        " \n",
        "  r = requests.get(url)\n",
        "  soup = BeautifulSoup(r.content, 'lxml')\n",
        "  \n",
        "  return soup.select_one('title').text\n",
        "\n",
        "print(get_site_title(url='http://www.chess.com'))"
      ],
      "execution_count": null,
      "outputs": [
        {
          "output_type": "stream",
          "text": [
            "Chess.com - Play Chess Online - Free Games\n"
          ],
          "name": "stdout"
        }
      ]
    },
    {
      "cell_type": "markdown",
      "metadata": {
        "colab_type": "text",
        "id": "NOY01g-tigqO"
      },
      "source": [
        "**Exercise 10**\n",
        "\n",
        "Get next month start datetime\n",
        "\n",
        "This fuction gets no parameters. It returns next month start datetime according to the time of execution. For example, if we execute the function at datetime `'2020-06-28 18:29:31'` the function will return the datetime `'2020-07-01 00:00:00'` which is the start time of the next month\n",
        "\n",
        "\n",
        "---\n",
        "\n",
        "\n",
        "\n",
        "---\n",
        "\n",
        "\n",
        "valid expected output: `'2020-07-01 00:00:00'`"
      ]
    },
    {
      "cell_type": "code",
      "metadata": {
        "id": "kKDxT-wJheo9",
        "colab_type": "code",
        "colab": {
          "base_uri": "https://localhost:8080/",
          "height": 34
        },
        "outputId": "e91a5d3e-5b49-4ac0-ad02-6f3b6c13c27a"
      },
      "source": [
        "from datetime import datetime\n",
        "\n",
        "def get_next_month_start_datetime():\n",
        "    # Gets execution time and returns the following month's starting time\n",
        "\n",
        "    now=datetime.now()\n",
        "    next_month=datetime(now.year, now.month+1 ,1 ,0 ,0)\n",
        "    \n",
        "    return next_month\n",
        "    \n",
        "print(get_next_month_start_datetime())"
      ],
      "execution_count": null,
      "outputs": [
        {
          "output_type": "stream",
          "text": [
            "2020-08-01 00:00:00\n"
          ],
          "name": "stdout"
        }
      ]
    }
  ]
}